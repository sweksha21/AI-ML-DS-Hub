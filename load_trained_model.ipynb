{
  "nbformat": 4,
  "nbformat_minor": 0,
  "metadata": {
    "colab": {
      "provenance": []
    },
    "kernelspec": {
      "name": "python3",
      "display_name": "Python 3"
    },
    "language_info": {
      "name": "python"
    }
  },
  "cells": [
    {
      "cell_type": "code",
      "execution_count": 6,
      "metadata": {
        "id": "EOwDpljNAPCU"
      },
      "outputs": [],
      "source": [
        "import tensorflow as tf\n",
        "import pickle\n",
        "import re\n",
        "import string\n",
        "import pandas as pd\n",
        "import matplotlib.pyplot as plt\n",
        "import seaborn as sns\n",
        "from collections import Counter\n",
        "import re\n",
        "import string\n",
        "from nltk.corpus import stopwords\n",
        "from nltk.tokenize import word_tokenize\n",
        "\n",
        "#final tokenization\n",
        "import numpy as np\n",
        "import tensorflow as tf\n",
        "from tensorflow.keras.preprocessing.text import Tokenizer\n",
        "from tensorflow.keras.preprocessing.sequence import pad_sequences"
      ]
    },
    {
      "cell_type": "code",
      "source": [
        "loaded_model = tf.keras.models.load_model('/content/spam_classification_sweksha.h5')\n",
        "loaded_model.summary()"
      ],
      "metadata": {
        "colab": {
          "base_uri": "https://localhost:8080/"
        },
        "id": "ExA1iUNEBEbp",
        "outputId": "6cf01228-a37e-4a15-e4d8-49e63f38e3ea"
      },
      "execution_count": 8,
      "outputs": [
        {
          "output_type": "stream",
          "name": "stdout",
          "text": [
            "Model: \"sequential\"\n",
            "_________________________________________________________________\n",
            " Layer (type)                Output Shape              Param #   \n",
            "=================================================================\n",
            " embedding (Embedding)       (None, 2000, 32)          1600000   \n",
            "                                                                 \n",
            " bidirectional (Bidirection  (None, 128)               49664     \n",
            " al)                                                             \n",
            "                                                                 \n",
            " dense (Dense)               (None, 16)                2064      \n",
            "                                                                 \n",
            " dropout (Dropout)           (None, 16)                0         \n",
            "                                                                 \n",
            " dense_1 (Dense)             (None, 1)                 17        \n",
            "                                                                 \n",
            "=================================================================\n",
            "Total params: 1651745 (6.30 MB)\n",
            "Trainable params: 1651745 (6.30 MB)\n",
            "Non-trainable params: 0 (0.00 Byte)\n",
            "_________________________________________________________________\n"
          ]
        }
      ]
    },
    {
      "cell_type": "code",
      "source": [
        "# Function to remove hyperlinks\n",
        "def remove_hyperlinks(text):\n",
        "    return re.sub(r'http\\S+|www\\S+|https\\S+', '', text, flags=re.MULTILINE)\n",
        "\n",
        "# Function to convert text to lowercase\n",
        "def text_to_lower(text):\n",
        "    return text.lower()\n",
        "\n",
        "# Function to remove numbers\n",
        "def remove_numbers(text):\n",
        "    return re.sub(r'\\d+', ' ', text)\n",
        "\n",
        "# Function to remove punctuation\n",
        "def remove_punctuation(text):\n",
        "    return re.sub(f'[{string.punctuation}]', ' ', text)\n",
        "\n",
        "# Function to remove extra whitespaces\n",
        "def remove_whitespaces(text):\n",
        "    text = text.strip()\n",
        "    return re.sub('\\s+', ' ', text)\n",
        "\n",
        "# Function to remove newlines\n",
        "def remove_newlines(text):\n",
        "    return text.replace('\\n', ' ').replace('\\r', '')\n",
        "\n",
        "\n",
        "\n",
        "# Final preprocessing function that calls all the above functions sequentially\n",
        "def preprocess_text(text):\n",
        "    text = remove_hyperlinks(text)\n",
        "    text = text_to_lower(text)\n",
        "    text = remove_numbers(text)\n",
        "    text = remove_punctuation(text)\n",
        "    text = remove_whitespaces(text)\n",
        "    text = remove_newlines(text)\n",
        "    return text"
      ],
      "metadata": {
        "id": "P1k8IAbFAsD3"
      },
      "execution_count": 9,
      "outputs": []
    },
    {
      "cell_type": "code",
      "source": [
        "# Load the trained tokenizer\n",
        "with open('tokenizer.pkl', 'rb') as handle:\n",
        "    tokenizer = pickle.load(handle)"
      ],
      "metadata": {
        "id": "3GfYq0Y1Aimr"
      },
      "execution_count": 10,
      "outputs": []
    },
    {
      "cell_type": "code",
      "source": [
        "def prediction(new_email):\n",
        "    with open('tokenizer.pkl', 'rb') as handle:\n",
        "        tokenizer = pickle.load(handle)\n",
        "    max_feature = 50000\n",
        "    max_len = 2000\n",
        "    loaded_model = tf.keras.models.load_model('/content/spam_classification_sweksha.h5')\n",
        "    processed_sentence = preprocess_text(new_email)\n",
        "    new_email_sequence = tokenizer.texts_to_sequences([processed_sentence])\n",
        "    new_email_features = pad_sequences(new_email_sequence, maxlen=max_len)\n",
        "    prediction = loaded_model.predict(new_email_features)\n",
        "    print(prediction)\n",
        "    if prediction[0] > 0.5:\n",
        "        return f\"Email is Spam.\"\n",
        "    else:\n",
        "        return f\"Email is Not-Spam.\""
      ],
      "metadata": {
        "id": "YlKCeDbxAijS"
      },
      "execution_count": 13,
      "outputs": []
    },
    {
      "cell_type": "code",
      "source": [
        "new_email = \"\"\"eDear Students,\n",
        "\n",
        "I hope this message finds you well.\n",
        "\n",
        "We are pleased to inform you that the issues with the video section on the TCSIONLX - Career Development Center Foundation Course (Digital Training Module - Jan 2024) have been successfully resolved. You should now be able to access and play the videos without any problems.\n",
        "\n",
        "Thank you for your patience and understanding while we addressed this issue. Please feel free to resume your coursework on the platform.\n",
        "\n",
        "If you encounter any further issues or have any questions, do not hesitate to reach out.\n",
        "\"\"\"\n",
        "\n",
        "\n",
        "output = prediction(new_email)\n",
        "\n",
        "print(output)"
      ],
      "metadata": {
        "colab": {
          "base_uri": "https://localhost:8080/"
        },
        "id": "bb3y172HAiiE",
        "outputId": "e1872aef-db05-4e17-f5af-aa7efe9ed1ff"
      },
      "execution_count": 15,
      "outputs": [
        {
          "output_type": "stream",
          "name": "stdout",
          "text": [
            "1/1 [==============================] - 1s 1s/step\n",
            "[[0.18743578]]\n",
            "Email is Not-Spam.\n"
          ]
        }
      ]
    },
    {
      "cell_type": "code",
      "source": [],
      "metadata": {
        "id": "orxny_4rAiez"
      },
      "execution_count": null,
      "outputs": []
    },
    {
      "cell_type": "code",
      "source": [],
      "metadata": {
        "id": "oU1wqGgiAibp"
      },
      "execution_count": null,
      "outputs": []
    },
    {
      "cell_type": "code",
      "source": [],
      "metadata": {
        "id": "mIEFZw9zAiZQ"
      },
      "execution_count": null,
      "outputs": []
    },
    {
      "cell_type": "code",
      "source": [],
      "metadata": {
        "id": "kG5D-MlVAiWT"
      },
      "execution_count": null,
      "outputs": []
    }
  ]
}